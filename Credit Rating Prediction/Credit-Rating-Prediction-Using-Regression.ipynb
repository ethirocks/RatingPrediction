{
 "cells": [
  {
   "cell_type": "code",
   "execution_count": 51,
   "metadata": {},
   "outputs": [],
   "source": [
    "import pandas as pd\n",
    "import numpy as np\n",
    "import matplotlib as plt"
   ]
  },
  {
   "cell_type": "code",
   "execution_count": 52,
   "metadata": {},
   "outputs": [],
   "source": [
    "df = pd.read_csv(\"C:/Users/ETHIRAJ/Desktop/projects/python projects/bank-loan-status/credit_train.csv\")\n",
    "test = pd.read_csv(\"C:/Users/ETHIRAJ/Desktop/projects/python projects/bank-loan-status/credit_test.csv\")"
   ]
  },
  {
   "cell_type": "code",
   "execution_count": 53,
   "metadata": {},
   "outputs": [
    {
     "name": "stdout",
     "output_type": "stream",
     "text": [
      "                                Loan ID                           Customer ID  \\\n",
      "0  14dd8831-6af5-400b-83ec-68e61888a048  981165ec-3274-42f5-a3b4-d104041a9ca9   \n",
      "1  4771cc26-131a-45db-b5aa-537ea4ba5342  2de017a3-2e01-49cb-a581-08169e83be29   \n",
      "2  4eed4e6a-aa2f-4c91-8651-ce984ee8fb26  5efb2b2b-bf11-4dfd-a572-3761a2694725   \n",
      "\n",
      "  Loan Status  Current Loan Amount        Term  Credit Score  Annual Income  \\\n",
      "0  Fully Paid             445412.0  Short Term         709.0      1167493.0   \n",
      "1  Fully Paid             262328.0  Short Term           NaN            NaN   \n",
      "2  Fully Paid           99999999.0  Short Term         741.0      2231892.0   \n",
      "\n",
      "  Years in current job Home Ownership             Purpose  Monthly Debt  \\\n",
      "0              8 years  Home Mortgage   Home Improvements       5214.74   \n",
      "1            10+ years  Home Mortgage  Debt Consolidation      33295.98   \n",
      "2              8 years       Own Home  Debt Consolidation      29200.53   \n",
      "\n",
      "   Years of Credit History  Months since last delinquent  \\\n",
      "0                     17.2                           NaN   \n",
      "1                     21.1                           8.0   \n",
      "2                     14.9                          29.0   \n",
      "\n",
      "   Number of Open Accounts  Number of Credit Problems  Current Credit Balance  \\\n",
      "0                      6.0                        1.0                228190.0   \n",
      "1                     35.0                        0.0                229976.0   \n",
      "2                     18.0                        1.0                297996.0   \n",
      "\n",
      "   Maximum Open Credit  Bankruptcies  Tax Liens  \n",
      "0             416746.0           1.0        0.0  \n",
      "1             850784.0           0.0        0.0  \n",
      "2             750090.0           0.0        0.0  \n"
     ]
    }
   ],
   "source": [
    "print(df.head(3))"
   ]
  },
  {
   "cell_type": "code",
   "execution_count": 54,
   "metadata": {},
   "outputs": [],
   "source": [
    "mean_value= df['Credit Score'].mean()\n",
    "mean_values= test['Credit Score'].mean()"
   ]
  },
  {
   "cell_type": "code",
   "execution_count": 55,
   "metadata": {},
   "outputs": [],
   "source": [
    "df['Credit Score']= df['Credit Score'].fillna(mean_value)\n",
    "test['Credit Score']= test['Credit Score'].fillna(mean_values)"
   ]
  },
  {
   "cell_type": "code",
   "execution_count": 56,
   "metadata": {},
   "outputs": [],
   "source": [
    "mean_value= df['Annual Income'].mean()\n",
    "mean_values= test['Annual Income'].mean()"
   ]
  },
  {
   "cell_type": "code",
   "execution_count": 57,
   "metadata": {},
   "outputs": [],
   "source": [
    "df['Annual Income']= df['Annual Income'].fillna(mean_value)\n",
    "test['Annual Income']= test['Annual Income'].fillna(mean_values)"
   ]
  },
  {
   "cell_type": "code",
   "execution_count": 58,
   "metadata": {},
   "outputs": [],
   "source": [
    "mean_value= df['Months since last delinquent'].mean()\n",
    "mean_values= test['Months since last delinquent'].mean()"
   ]
  },
  {
   "cell_type": "code",
   "execution_count": 59,
   "metadata": {},
   "outputs": [],
   "source": [
    "df['Months since last delinquent']= df['Months since last delinquent'].fillna(mean_value)\n",
    "test['Months since last delinquent']= test['Months since last delinquent'].fillna(mean_values)"
   ]
  },
  {
   "cell_type": "code",
   "execution_count": 60,
   "metadata": {},
   "outputs": [
    {
     "data": {
      "text/plain": [
       "<matplotlib.axes._subplots.AxesSubplot at 0x13fa4082518>"
      ]
     },
     "execution_count": 60,
     "metadata": {},
     "output_type": "execute_result"
    },
    {
     "data": {
      "image/png": "[encoded data removed]",
      "text/plain": [
       "<Figure size 432x288 with 1 Axes>"
      ]
     },
     "metadata": {
      "needs_background": "light"
     },
     "output_type": "display_data"
    }
   ],
   "source": [
    "df['Credit Score'].hist()\n",
    "test['Credit Score'].hist()"
   ]
  },
  {
   "cell_type": "code",
   "execution_count": 61,
   "metadata": {},
   "outputs": [
    {
     "data": {
      "text/plain": [
       "<matplotlib.axes._subplots.AxesSubplot at 0x13fa3065cf8>"
      ]
     },
     "execution_count": 61,
     "metadata": {},
     "output_type": "execute_result"
    },
    {
     "data": {
      "image/png": "[encoded data removed]",
      "text/plain": [
       "<Figure size 432x288 with 1 Axes>"
      ]
     },
     "metadata": {
      "needs_background": "light"
     },
     "output_type": "display_data"
    }
   ],
   "source": [
    "df.boxplot(column='Credit Score')"
   ]
  },
  {
   "cell_type": "code",
   "execution_count": 62,
   "metadata": {},
   "outputs": [
    {
     "data": {
      "text/plain": [
       "0          709.000000\n",
       "1         1076.456089\n",
       "2          741.000000\n",
       "3          721.000000\n",
       "4         1076.456089\n",
       "5         7290.000000\n",
       "6          730.000000\n",
       "7         1076.456089\n",
       "8          678.000000\n",
       "9          739.000000\n",
       "10         728.000000\n",
       "11        1076.456089\n",
       "12         740.000000\n",
       "13         743.000000\n",
       "14         727.000000\n",
       "15        1076.456089\n",
       "16        1076.456089\n",
       "17         723.000000\n",
       "18        1076.456089\n",
       "19         747.000000\n",
       "20         687.000000\n",
       "21         750.000000\n",
       "22         714.000000\n",
       "23         724.000000\n",
       "24         704.000000\n",
       "25         688.000000\n",
       "26         724.000000\n",
       "27         749.000000\n",
       "28         746.000000\n",
       "29        1076.456089\n",
       "             ...     \n",
       "100484    1076.456089\n",
       "100485    1076.456089\n",
       "100486    1076.456089\n",
       "100487    1076.456089\n",
       "100488    1076.456089\n",
       "100489    1076.456089\n",
       "100490    1076.456089\n",
       "100491    1076.456089\n",
       "100492    1076.456089\n",
       "100493    1076.456089\n",
       "100494    1076.456089\n",
       "100495    1076.456089\n",
       "100496    1076.456089\n",
       "100497    1076.456089\n",
       "100498    1076.456089\n",
       "100499    1076.456089\n",
       "100500    1076.456089\n",
       "100501    1076.456089\n",
       "100502    1076.456089\n",
       "100503    1076.456089\n",
       "100504    1076.456089\n",
       "100505    1076.456089\n",
       "100506    1076.456089\n",
       "100507    1076.456089\n",
       "100508    1076.456089\n",
       "100509    1076.456089\n",
       "100510    1076.456089\n",
       "100511    1076.456089\n",
       "100512    1076.456089\n",
       "100513    1076.456089\n",
       "Name: Credit Score, Length: 100514, dtype: float64"
      ]
     },
     "execution_count": 62,
     "metadata": {},
     "output_type": "execute_result"
    }
   ],
   "source": [
    "x_train=df[['Months since last delinquent','Annual Income']]\n",
    "y_train=df['Credit Score']\n",
    "x_train.replace([np.inf, -np.inf], np.nan)\n",
    "y_train.replace([np.inf, -np.inf], np.nan)\n",
    "x_train.fillna(x_train.mean())\n",
    "y_train.fillna(y_train.mean())"
   ]
  },
  {
   "cell_type": "code",
   "execution_count": 63,
   "metadata": {},
   "outputs": [
    {
     "data": {
      "text/plain": [
       "LinearRegression(copy_X=True, fit_intercept=True, n_jobs=None,\n",
       "         normalize=False)"
      ]
     },
     "execution_count": 63,
     "metadata": {},
     "output_type": "execute_result"
    }
   ],
   "source": [
    "from sklearn.linear_model import LinearRegression\n",
    "lm = LinearRegression()\n",
    "lm.fit(x_train,y_train)"
   ]
  },
  {
   "cell_type": "code",
   "execution_count": 64,
   "metadata": {},
   "outputs": [
    {
     "data": {
      "text/plain": [
       "0         747.00000\n",
       "1         734.00000\n",
       "2         709.00000\n",
       "3         727.00000\n",
       "4         744.00000\n",
       "5         741.00000\n",
       "6         733.00000\n",
       "7        1077.99152\n",
       "8         736.00000\n",
       "9         683.00000\n",
       "10       1077.99152\n",
       "11        723.00000\n",
       "12        680.00000\n",
       "13       1077.99152\n",
       "14       1077.99152\n",
       "15        696.00000\n",
       "16        729.00000\n",
       "17        742.00000\n",
       "18        715.00000\n",
       "19        715.00000\n",
       "20        744.00000\n",
       "21        747.00000\n",
       "22        722.00000\n",
       "23        740.00000\n",
       "24        736.00000\n",
       "25        708.00000\n",
       "26       1077.99152\n",
       "27        705.00000\n",
       "28       1077.99152\n",
       "29       1077.99152\n",
       "            ...    \n",
       "10323    1077.99152\n",
       "10324    1077.99152\n",
       "10325    1077.99152\n",
       "10326    1077.99152\n",
       "10327    1077.99152\n",
       "10328    1077.99152\n",
       "10329    1077.99152\n",
       "10330    1077.99152\n",
       "10331    1077.99152\n",
       "10332    1077.99152\n",
       "10333    1077.99152\n",
       "10334    1077.99152\n",
       "10335    1077.99152\n",
       "10336    1077.99152\n",
       "10337    1077.99152\n",
       "10338    1077.99152\n",
       "10339    1077.99152\n",
       "10340    1077.99152\n",
       "10341    1077.99152\n",
       "10342    1077.99152\n",
       "10343    1077.99152\n",
       "10344    1077.99152\n",
       "10345    1077.99152\n",
       "10346    1077.99152\n",
       "10347    1077.99152\n",
       "10348    1077.99152\n",
       "10349    1077.99152\n",
       "10350    1077.99152\n",
       "10351    1077.99152\n",
       "10352    1077.99152\n",
       "Name: Credit Score, Length: 10353, dtype: float64"
      ]
     },
     "execution_count": 64,
     "metadata": {},
     "output_type": "execute_result"
    }
   ],
   "source": [
    "x_test=test[['Months since last delinquent','Annual Income']]\n",
    "y_test=test['Credit Score']\n",
    "x_test.replace([np.inf, -np.inf], np.nan)\n",
    "y_test.replace([np.inf, -np.inf], np.nan)\n",
    "x_test.fillna(x_test.mean())\n",
    "y_test.fillna(y_test.mean())"
   ]
  },
  {
   "cell_type": "code",
   "execution_count": 65,
   "metadata": {},
   "outputs": [],
   "source": [
    "predictions = lm.predict(x_test)"
   ]
  },
  {
   "cell_type": "code",
   "execution_count": 67,
   "metadata": {},
   "outputs": [
    {
     "data": {
      "text/plain": [
       "<matplotlib.collections.PathCollection at 0x13fa4483470>"
      ]
     },
     "execution_count": 67,
     "metadata": {},
     "output_type": "execute_result"
    },
    {
     "data": {
      "image/png": "[encoded data removed]",
      "text/plain": [
       "<Figure size 432x288 with 1 Axes>"
      ]
     },
     "metadata": {
      "needs_background": "light"
     },
     "output_type": "display_data"
    }
   ],
   "source": [
    "import matplotlib.pyplot as plt \n",
    "plt.scatter(y_test,predictions)"
   ]
  },
  {
   "cell_type": "code",
   "execution_count": null,
   "metadata": {},
   "outputs": [],
   "source": []
  }
 ],
 "metadata": {
  "kernelspec": {
   "display_name": "Python 3",
   "language": "python",
   "name": "python3"
  },
  "language_info": {
   "codemirror_mode": {
    "name": "ipython",
    "version": 3
   },
   "file_extension": ".py",
   "mimetype": "text/x-python",
   "name": "python",
   "nbconvert_exporter": "python",
   "pygments_lexer": "ipython3",
   "version": "3.7.1"
  }
 },
 "nbformat": 4,
 "nbformat_minor": 2
}
